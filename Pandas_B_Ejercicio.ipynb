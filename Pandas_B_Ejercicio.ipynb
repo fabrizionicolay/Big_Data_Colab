{
  "cells": [
    {
      "cell_type": "markdown",
      "metadata": {
        "id": "view-in-github",
        "colab_type": "text"
      },
      "source": [
        "<a href=\"https://colab.research.google.com/github/fabrizionicolay/Big_Data_Colab/blob/main/Pandas_B_Ejercicio.ipynb\" target=\"_parent\"><img src=\"https://colab.research.google.com/assets/colab-badge.svg\" alt=\"Open In Colab\"/></a>"
      ]
    },
    {
      "cell_type": "code",
      "execution_count": null,
      "metadata": {
        "id": "bGksKG6C0gh7"
      },
      "outputs": [],
      "source": [
        "#DataFrame = Python Pandas\n",
        "#DataSet = Puede ser una tabla de mysql, de oracle, una hoja de excel, o cualquier cosa parecida."
      ]
    },
    {
      "cell_type": "code",
      "execution_count": null,
      "metadata": {
        "id": "MwzaZO5E3Kbf"
      },
      "outputs": [],
      "source": [
        "import pandas as pd"
      ]
    },
    {
      "cell_type": "code",
      "execution_count": null,
      "metadata": {
        "id": "JGKs6YtU5Kra"
      },
      "outputs": [],
      "source": [
        "df = pd.read_csv(\"https://docs.google.com/spreadsheets/d/e/2PACX-1vTKv5ve5cbcTUOygS_FEd-swTOTVxC4DldFq-T2W4nPW-XqMYK8rVrMn_RDwf_ujF8o_1YyHAL98OiO/pub?gid=1414694331&single=true&output=csv\")"
      ]
    },
    {
      "cell_type": "code",
      "execution_count": null,
      "metadata": {
        "colab": {
          "base_uri": "https://localhost:8080/",
          "height": 424
        },
        "id": "iRAqGMoV5Srx",
        "outputId": "8503693f-b3b5-4cae-8173-1b0548d7240e"
      },
      "outputs": [
        {
          "data": {
            "application/vnd.google.colaboratory.intrinsic+json": {
              "type": "dataframe",
              "variable_name": "df"
            },
            "text/html": [
              "\n",
              "  <div id=\"df-a5ebe740-fc3f-4b3c-b727-53a3c0692130\" class=\"colab-df-container\">\n",
              "    <div>\n",
              "<style scoped>\n",
              "    .dataframe tbody tr th:only-of-type {\n",
              "        vertical-align: middle;\n",
              "    }\n",
              "\n",
              "    .dataframe tbody tr th {\n",
              "        vertical-align: top;\n",
              "    }\n",
              "\n",
              "    .dataframe thead th {\n",
              "        text-align: right;\n",
              "    }\n",
              "</style>\n",
              "<table border=\"1\" class=\"dataframe\">\n",
              "  <thead>\n",
              "    <tr style=\"text-align: right;\">\n",
              "      <th></th>\n",
              "      <th>ANIO</th>\n",
              "      <th>MES</th>\n",
              "      <th>NSELV</th>\n",
              "      <th>UBIGEO</th>\n",
              "      <th>Parentesco_con_jefe_hogar</th>\n",
              "      <th>sexo</th>\n",
              "      <th>edad</th>\n",
              "      <th>idioma_ninez</th>\n",
              "      <th>nivel_educativo</th>\n",
              "      <th>centro_estudios_E_P</th>\n",
              "    </tr>\n",
              "  </thead>\n",
              "  <tbody>\n",
              "    <tr>\n",
              "      <th>0</th>\n",
              "      <td>2020</td>\n",
              "      <td>1</td>\n",
              "      <td>10</td>\n",
              "      <td>240201</td>\n",
              "      <td>1</td>\n",
              "      <td>1.0</td>\n",
              "      <td>43.0</td>\n",
              "      <td>4.0</td>\n",
              "      <td>6.0</td>\n",
              "      <td>NaN</td>\n",
              "    </tr>\n",
              "    <tr>\n",
              "      <th>1</th>\n",
              "      <td>2020</td>\n",
              "      <td>1</td>\n",
              "      <td>10</td>\n",
              "      <td>240201</td>\n",
              "      <td>2</td>\n",
              "      <td>2.0</td>\n",
              "      <td>43.0</td>\n",
              "      <td>4.0</td>\n",
              "      <td>6.0</td>\n",
              "      <td>NaN</td>\n",
              "    </tr>\n",
              "    <tr>\n",
              "      <th>2</th>\n",
              "      <td>2020</td>\n",
              "      <td>1</td>\n",
              "      <td>10</td>\n",
              "      <td>240201</td>\n",
              "      <td>3</td>\n",
              "      <td>2.0</td>\n",
              "      <td>11.0</td>\n",
              "      <td>4.0</td>\n",
              "      <td>3.0</td>\n",
              "      <td>1.0</td>\n",
              "    </tr>\n",
              "    <tr>\n",
              "      <th>3</th>\n",
              "      <td>2020</td>\n",
              "      <td>1</td>\n",
              "      <td>10</td>\n",
              "      <td>240201</td>\n",
              "      <td>3</td>\n",
              "      <td>1.0</td>\n",
              "      <td>22.0</td>\n",
              "      <td>4.0</td>\n",
              "      <td>6.0</td>\n",
              "      <td>NaN</td>\n",
              "    </tr>\n",
              "    <tr>\n",
              "      <th>4</th>\n",
              "      <td>2020</td>\n",
              "      <td>1</td>\n",
              "      <td>10</td>\n",
              "      <td>240201</td>\n",
              "      <td>4</td>\n",
              "      <td>1.0</td>\n",
              "      <td>27.0</td>\n",
              "      <td>4.0</td>\n",
              "      <td>6.0</td>\n",
              "      <td>NaN</td>\n",
              "    </tr>\n",
              "    <tr>\n",
              "      <th>...</th>\n",
              "      <td>...</td>\n",
              "      <td>...</td>\n",
              "      <td>...</td>\n",
              "      <td>...</td>\n",
              "      <td>...</td>\n",
              "      <td>...</td>\n",
              "      <td>...</td>\n",
              "      <td>...</td>\n",
              "      <td>...</td>\n",
              "      <td>...</td>\n",
              "    </tr>\n",
              "    <tr>\n",
              "      <th>111530</th>\n",
              "      <td>2019</td>\n",
              "      <td>11</td>\n",
              "      <td>59</td>\n",
              "      <td>150133</td>\n",
              "      <td>1</td>\n",
              "      <td>2.0</td>\n",
              "      <td>69.0</td>\n",
              "      <td>1.0</td>\n",
              "      <td>5.0</td>\n",
              "      <td>NaN</td>\n",
              "    </tr>\n",
              "    <tr>\n",
              "      <th>111531</th>\n",
              "      <td>2019</td>\n",
              "      <td>11</td>\n",
              "      <td>96</td>\n",
              "      <td>150133</td>\n",
              "      <td>1</td>\n",
              "      <td>1.0</td>\n",
              "      <td>52.0</td>\n",
              "      <td>1.0</td>\n",
              "      <td>5.0</td>\n",
              "      <td>NaN</td>\n",
              "    </tr>\n",
              "    <tr>\n",
              "      <th>111532</th>\n",
              "      <td>2019</td>\n",
              "      <td>11</td>\n",
              "      <td>96</td>\n",
              "      <td>150133</td>\n",
              "      <td>2</td>\n",
              "      <td>2.0</td>\n",
              "      <td>48.0</td>\n",
              "      <td>1.0</td>\n",
              "      <td>5.0</td>\n",
              "      <td>NaN</td>\n",
              "    </tr>\n",
              "    <tr>\n",
              "      <th>111533</th>\n",
              "      <td>2019</td>\n",
              "      <td>11</td>\n",
              "      <td>96</td>\n",
              "      <td>150133</td>\n",
              "      <td>3</td>\n",
              "      <td>2.0</td>\n",
              "      <td>25.0</td>\n",
              "      <td>4.0</td>\n",
              "      <td>11.0</td>\n",
              "      <td>2.0</td>\n",
              "    </tr>\n",
              "    <tr>\n",
              "      <th>111534</th>\n",
              "      <td>2019</td>\n",
              "      <td>11</td>\n",
              "      <td>96</td>\n",
              "      <td>150133</td>\n",
              "      <td>3</td>\n",
              "      <td>1.0</td>\n",
              "      <td>20.0</td>\n",
              "      <td>4.0</td>\n",
              "      <td>6.0</td>\n",
              "      <td>NaN</td>\n",
              "    </tr>\n",
              "  </tbody>\n",
              "</table>\n",
              "<p>111535 rows × 10 columns</p>\n",
              "</div>\n",
              "    <div class=\"colab-df-buttons\">\n",
              "\n",
              "  <div class=\"colab-df-container\">\n",
              "    <button class=\"colab-df-convert\" onclick=\"convertToInteractive('df-a5ebe740-fc3f-4b3c-b727-53a3c0692130')\"\n",
              "            title=\"Convert this dataframe to an interactive table.\"\n",
              "            style=\"display:none;\">\n",
              "\n",
              "  <svg xmlns=\"http://www.w3.org/2000/svg\" height=\"24px\" viewBox=\"0 -960 960 960\">\n",
              "    <path d=\"M120-120v-720h720v720H120Zm60-500h600v-160H180v160Zm220 220h160v-160H400v160Zm0 220h160v-160H400v160ZM180-400h160v-160H180v160Zm440 0h160v-160H620v160ZM180-180h160v-160H180v160Zm440 0h160v-160H620v160Z\"/>\n",
              "  </svg>\n",
              "    </button>\n",
              "\n",
              "  <style>\n",
              "    .colab-df-container {\n",
              "      display:flex;\n",
              "      gap: 12px;\n",
              "    }\n",
              "\n",
              "    .colab-df-convert {\n",
              "      background-color: #E8F0FE;\n",
              "      border: none;\n",
              "      border-radius: 50%;\n",
              "      cursor: pointer;\n",
              "      display: none;\n",
              "      fill: #1967D2;\n",
              "      height: 32px;\n",
              "      padding: 0 0 0 0;\n",
              "      width: 32px;\n",
              "    }\n",
              "\n",
              "    .colab-df-convert:hover {\n",
              "      background-color: #E2EBFA;\n",
              "      box-shadow: 0px 1px 2px rgba(60, 64, 67, 0.3), 0px 1px 3px 1px rgba(60, 64, 67, 0.15);\n",
              "      fill: #174EA6;\n",
              "    }\n",
              "\n",
              "    .colab-df-buttons div {\n",
              "      margin-bottom: 4px;\n",
              "    }\n",
              "\n",
              "    [theme=dark] .colab-df-convert {\n",
              "      background-color: #3B4455;\n",
              "      fill: #D2E3FC;\n",
              "    }\n",
              "\n",
              "    [theme=dark] .colab-df-convert:hover {\n",
              "      background-color: #434B5C;\n",
              "      box-shadow: 0px 1px 3px 1px rgba(0, 0, 0, 0.15);\n",
              "      filter: drop-shadow(0px 1px 2px rgba(0, 0, 0, 0.3));\n",
              "      fill: #FFFFFF;\n",
              "    }\n",
              "  </style>\n",
              "\n",
              "    <script>\n",
              "      const buttonEl =\n",
              "        document.querySelector('#df-a5ebe740-fc3f-4b3c-b727-53a3c0692130 button.colab-df-convert');\n",
              "      buttonEl.style.display =\n",
              "        google.colab.kernel.accessAllowed ? 'block' : 'none';\n",
              "\n",
              "      async function convertToInteractive(key) {\n",
              "        const element = document.querySelector('#df-a5ebe740-fc3f-4b3c-b727-53a3c0692130');\n",
              "        const dataTable =\n",
              "          await google.colab.kernel.invokeFunction('convertToInteractive',\n",
              "                                                    [key], {});\n",
              "        if (!dataTable) return;\n",
              "\n",
              "        const docLinkHtml = 'Like what you see? Visit the ' +\n",
              "          '<a target=\"_blank\" href=https://colab.research.google.com/notebooks/data_table.ipynb>data table notebook</a>'\n",
              "          + ' to learn more about interactive tables.';\n",
              "        element.innerHTML = '';\n",
              "        dataTable['output_type'] = 'display_data';\n",
              "        await google.colab.output.renderOutput(dataTable, element);\n",
              "        const docLink = document.createElement('div');\n",
              "        docLink.innerHTML = docLinkHtml;\n",
              "        element.appendChild(docLink);\n",
              "      }\n",
              "    </script>\n",
              "  </div>\n",
              "\n",
              "\n",
              "<div id=\"df-326ac0f5-ec34-4976-aa98-3290f83181c4\">\n",
              "  <button class=\"colab-df-quickchart\" onclick=\"quickchart('df-326ac0f5-ec34-4976-aa98-3290f83181c4')\"\n",
              "            title=\"Suggest charts\"\n",
              "            style=\"display:none;\">\n",
              "\n",
              "<svg xmlns=\"http://www.w3.org/2000/svg\" height=\"24px\"viewBox=\"0 0 24 24\"\n",
              "     width=\"24px\">\n",
              "    <g>\n",
              "        <path d=\"M19 3H5c-1.1 0-2 .9-2 2v14c0 1.1.9 2 2 2h14c1.1 0 2-.9 2-2V5c0-1.1-.9-2-2-2zM9 17H7v-7h2v7zm4 0h-2V7h2v10zm4 0h-2v-4h2v4z\"/>\n",
              "    </g>\n",
              "</svg>\n",
              "  </button>\n",
              "\n",
              "<style>\n",
              "  .colab-df-quickchart {\n",
              "      --bg-color: #E8F0FE;\n",
              "      --fill-color: #1967D2;\n",
              "      --hover-bg-color: #E2EBFA;\n",
              "      --hover-fill-color: #174EA6;\n",
              "      --disabled-fill-color: #AAA;\n",
              "      --disabled-bg-color: #DDD;\n",
              "  }\n",
              "\n",
              "  [theme=dark] .colab-df-quickchart {\n",
              "      --bg-color: #3B4455;\n",
              "      --fill-color: #D2E3FC;\n",
              "      --hover-bg-color: #434B5C;\n",
              "      --hover-fill-color: #FFFFFF;\n",
              "      --disabled-bg-color: #3B4455;\n",
              "      --disabled-fill-color: #666;\n",
              "  }\n",
              "\n",
              "  .colab-df-quickchart {\n",
              "    background-color: var(--bg-color);\n",
              "    border: none;\n",
              "    border-radius: 50%;\n",
              "    cursor: pointer;\n",
              "    display: none;\n",
              "    fill: var(--fill-color);\n",
              "    height: 32px;\n",
              "    padding: 0;\n",
              "    width: 32px;\n",
              "  }\n",
              "\n",
              "  .colab-df-quickchart:hover {\n",
              "    background-color: var(--hover-bg-color);\n",
              "    box-shadow: 0 1px 2px rgba(60, 64, 67, 0.3), 0 1px 3px 1px rgba(60, 64, 67, 0.15);\n",
              "    fill: var(--button-hover-fill-color);\n",
              "  }\n",
              "\n",
              "  .colab-df-quickchart-complete:disabled,\n",
              "  .colab-df-quickchart-complete:disabled:hover {\n",
              "    background-color: var(--disabled-bg-color);\n",
              "    fill: var(--disabled-fill-color);\n",
              "    box-shadow: none;\n",
              "  }\n",
              "\n",
              "  .colab-df-spinner {\n",
              "    border: 2px solid var(--fill-color);\n",
              "    border-color: transparent;\n",
              "    border-bottom-color: var(--fill-color);\n",
              "    animation:\n",
              "      spin 1s steps(1) infinite;\n",
              "  }\n",
              "\n",
              "  @keyframes spin {\n",
              "    0% {\n",
              "      border-color: transparent;\n",
              "      border-bottom-color: var(--fill-color);\n",
              "      border-left-color: var(--fill-color);\n",
              "    }\n",
              "    20% {\n",
              "      border-color: transparent;\n",
              "      border-left-color: var(--fill-color);\n",
              "      border-top-color: var(--fill-color);\n",
              "    }\n",
              "    30% {\n",
              "      border-color: transparent;\n",
              "      border-left-color: var(--fill-color);\n",
              "      border-top-color: var(--fill-color);\n",
              "      border-right-color: var(--fill-color);\n",
              "    }\n",
              "    40% {\n",
              "      border-color: transparent;\n",
              "      border-right-color: var(--fill-color);\n",
              "      border-top-color: var(--fill-color);\n",
              "    }\n",
              "    60% {\n",
              "      border-color: transparent;\n",
              "      border-right-color: var(--fill-color);\n",
              "    }\n",
              "    80% {\n",
              "      border-color: transparent;\n",
              "      border-right-color: var(--fill-color);\n",
              "      border-bottom-color: var(--fill-color);\n",
              "    }\n",
              "    90% {\n",
              "      border-color: transparent;\n",
              "      border-bottom-color: var(--fill-color);\n",
              "    }\n",
              "  }\n",
              "</style>\n",
              "\n",
              "  <script>\n",
              "    async function quickchart(key) {\n",
              "      const quickchartButtonEl =\n",
              "        document.querySelector('#' + key + ' button');\n",
              "      quickchartButtonEl.disabled = true;  // To prevent multiple clicks.\n",
              "      quickchartButtonEl.classList.add('colab-df-spinner');\n",
              "      try {\n",
              "        const charts = await google.colab.kernel.invokeFunction(\n",
              "            'suggestCharts', [key], {});\n",
              "      } catch (error) {\n",
              "        console.error('Error during call to suggestCharts:', error);\n",
              "      }\n",
              "      quickchartButtonEl.classList.remove('colab-df-spinner');\n",
              "      quickchartButtonEl.classList.add('colab-df-quickchart-complete');\n",
              "    }\n",
              "    (() => {\n",
              "      let quickchartButtonEl =\n",
              "        document.querySelector('#df-326ac0f5-ec34-4976-aa98-3290f83181c4 button');\n",
              "      quickchartButtonEl.style.display =\n",
              "        google.colab.kernel.accessAllowed ? 'block' : 'none';\n",
              "    })();\n",
              "  </script>\n",
              "</div>\n",
              "\n",
              "  <div id=\"id_940a774e-1e74-4cef-88e0-a638eff7f163\">\n",
              "    <style>\n",
              "      .colab-df-generate {\n",
              "        background-color: #E8F0FE;\n",
              "        border: none;\n",
              "        border-radius: 50%;\n",
              "        cursor: pointer;\n",
              "        display: none;\n",
              "        fill: #1967D2;\n",
              "        height: 32px;\n",
              "        padding: 0 0 0 0;\n",
              "        width: 32px;\n",
              "      }\n",
              "\n",
              "      .colab-df-generate:hover {\n",
              "        background-color: #E2EBFA;\n",
              "        box-shadow: 0px 1px 2px rgba(60, 64, 67, 0.3), 0px 1px 3px 1px rgba(60, 64, 67, 0.15);\n",
              "        fill: #174EA6;\n",
              "      }\n",
              "\n",
              "      [theme=dark] .colab-df-generate {\n",
              "        background-color: #3B4455;\n",
              "        fill: #D2E3FC;\n",
              "      }\n",
              "\n",
              "      [theme=dark] .colab-df-generate:hover {\n",
              "        background-color: #434B5C;\n",
              "        box-shadow: 0px 1px 3px 1px rgba(0, 0, 0, 0.15);\n",
              "        filter: drop-shadow(0px 1px 2px rgba(0, 0, 0, 0.3));\n",
              "        fill: #FFFFFF;\n",
              "      }\n",
              "    </style>\n",
              "    <button class=\"colab-df-generate\" onclick=\"generateWithVariable('df')\"\n",
              "            title=\"Generate code using this dataframe.\"\n",
              "            style=\"display:none;\">\n",
              "\n",
              "  <svg xmlns=\"http://www.w3.org/2000/svg\" height=\"24px\"viewBox=\"0 0 24 24\"\n",
              "       width=\"24px\">\n",
              "    <path d=\"M7,19H8.4L18.45,9,17,7.55,7,17.6ZM5,21V16.75L18.45,3.32a2,2,0,0,1,2.83,0l1.4,1.43a1.91,1.91,0,0,1,.58,1.4,1.91,1.91,0,0,1-.58,1.4L9.25,21ZM18.45,9,17,7.55Zm-12,3A5.31,5.31,0,0,0,4.9,8.1,5.31,5.31,0,0,0,1,6.5,5.31,5.31,0,0,0,4.9,4.9,5.31,5.31,0,0,0,6.5,1,5.31,5.31,0,0,0,8.1,4.9,5.31,5.31,0,0,0,12,6.5,5.46,5.46,0,0,0,6.5,12Z\"/>\n",
              "  </svg>\n",
              "    </button>\n",
              "    <script>\n",
              "      (() => {\n",
              "      const buttonEl =\n",
              "        document.querySelector('#id_940a774e-1e74-4cef-88e0-a638eff7f163 button.colab-df-generate');\n",
              "      buttonEl.style.display =\n",
              "        google.colab.kernel.accessAllowed ? 'block' : 'none';\n",
              "\n",
              "      buttonEl.onclick = () => {\n",
              "        google.colab.notebook.generateWithVariable('df');\n",
              "      }\n",
              "      })();\n",
              "    </script>\n",
              "  </div>\n",
              "\n",
              "    </div>\n",
              "  </div>\n"
            ],
            "text/plain": [
              "        ANIO  MES  NSELV  UBIGEO  Parentesco_con_jefe_hogar  sexo  edad  idioma_ninez  nivel_educativo  centro_estudios_E_P\n",
              "0       2020    1     10  240201                          1   1.0  43.0           4.0              6.0                  NaN\n",
              "1       2020    1     10  240201                          2   2.0  43.0           4.0              6.0                  NaN\n",
              "2       2020    1     10  240201                          3   2.0  11.0           4.0              3.0                  1.0\n",
              "3       2020    1     10  240201                          3   1.0  22.0           4.0              6.0                  NaN\n",
              "4       2020    1     10  240201                          4   1.0  27.0           4.0              6.0                  NaN\n",
              "...      ...  ...    ...     ...                        ...   ...   ...           ...              ...                  ...\n",
              "111530  2019   11     59  150133                          1   2.0  69.0           1.0              5.0                  NaN\n",
              "111531  2019   11     96  150133                          1   1.0  52.0           1.0              5.0                  NaN\n",
              "111532  2019   11     96  150133                          2   2.0  48.0           1.0              5.0                  NaN\n",
              "111533  2019   11     96  150133                          3   2.0  25.0           4.0             11.0                  2.0\n",
              "111534  2019   11     96  150133                          3   1.0  20.0           4.0              6.0                  NaN\n",
              "\n",
              "[111535 rows x 10 columns]"
            ]
          },
          "execution_count": 8,
          "metadata": {},
          "output_type": "execute_result"
        }
      ],
      "source": [
        "pd.set_option(\"display.width\",200)\n",
        "#print(df)\n",
        "df"
      ]
    },
    {
      "cell_type": "code",
      "execution_count": null,
      "metadata": {
        "colab": {
          "base_uri": "https://localhost:8080/"
        },
        "id": "LJ3XtQzv661p",
        "outputId": "efdda162-31a4-4874-d2a8-0f76729ff8d2"
      },
      "outputs": [
        {
          "name": "stdout",
          "output_type": "stream",
          "text": [
            "Registros con número de UBIGEO de Juliaca: 189\n"
          ]
        }
      ],
      "source": [
        "# Cantidad de registros con N° de Ubigeo 211101(Juliaca)\n",
        "\n",
        "ubigeo_cant = df[df['UBIGEO'] == 211101].shape[0]\n",
        "print(\"Registros con número de UBIGEO de Juliaca:\", ubigeo_cant)\n"
      ]
    },
    {
      "cell_type": "code",
      "execution_count": null,
      "metadata": {
        "colab": {
          "base_uri": "https://localhost:8080/"
        },
        "id": "6jpwfHq48fjq",
        "outputId": "e5bc772e-49ee-48ca-b1d0-5c2be6410bc6"
      },
      "outputs": [
        {
          "name": "stdout",
          "output_type": "stream",
          "text": [
            "Tenemos  189 registros en juliaca.\n",
            "Tenemos  2684 registros en Puno.\n",
            "Tenemos  7070 registros en total para todo Puno.\n"
          ]
        }
      ],
      "source": [
        "df_juliaca =  df[df[\"UBIGEO\"]==211101] #Filtramos por el campo UBIGEO: Juliaca\n",
        "print(\"Tenemos \", len(df_juliaca),\"registros en juliaca.\")\n",
        "\n",
        "df_puno =  df[df[\"UBIGEO\"]==210101] #Filtramos por el campo UBIGEO: Puno\n",
        "print(\"Tenemos \", len(df_puno),\"registros en Puno.\")\n",
        "\n",
        "df_puno_total  =  df[df[\"UBIGEO\"].astype(str).str.startswith('21')] #Filtramos por el campo UBIGEO la cantidad total de todos los ubigeos que empiezan con \"21\"\n",
        "print(\"Tenemos \", len(df_puno_total),\"registros en total para todo Puno.\")"
      ]
    },
    {
      "cell_type": "code",
      "execution_count": null,
      "metadata": {
        "colab": {
          "base_uri": "https://localhost:8080/",
          "height": 429
        },
        "id": "a6QlzlDmA3mB",
        "outputId": "b54627ed-77f6-41fb-f52a-5b50fa9ed195"
      },
      "outputs": [
        {
          "data": {
            "image/png": "[encoded data removed]",
            "text/plain": [
              "<Figure size 640x480 with 1 Axes>"
            ]
          },
          "metadata": {},
          "output_type": "display_data"
        }
      ],
      "source": [
        "import matplotlib.pyplot as plt\n",
        "\n",
        "# Cantidades de registros\n",
        "juliaca = 189\n",
        "puno = 2684\n",
        "puno_total = 7070\n",
        "\n",
        "# Create a list of the values for each category\n",
        "categories = ['Juliaca', 'Puno', 'Total Puno']\n",
        "values = [juliaca, puno, puno_total]\n",
        "\n",
        "# Create a pie chart\n",
        "plt.pie(values, labels=categories)\n",
        "\n",
        "# Add labels with counts\n",
        "plt.text(-0.5, 0.5, str(juliaca), fontsize=12, color='black')\n",
        "plt.text(0.5, 0.5, str(puno), fontsize=12, color='black')\n",
        "plt.text(0, -0.7, str(puno_total), fontsize=12, color='black')\n",
        "\n",
        "# Set the title of the chart\n",
        "plt.title('Registros por Ubicación')\n",
        "\n",
        "# Display the chart\n",
        "plt.show()\n"
      ]
    },
    {
      "cell_type": "code",
      "execution_count": null,
      "metadata": {
        "colab": {
          "base_uri": "https://localhost:8080/"
        },
        "id": "6CMwt-zCCA_o",
        "outputId": "b64e0753-a464-4c49-f88c-ec1dae9cbb38"
      },
      "outputs": [
        {
          "name": "stdout",
          "output_type": "stream",
          "text": [
            "        ANIO  MES  NSELV  UBIGEO  Parentesco_con_jefe_hogar  sexo  edad  idioma_ninez  nivel_educativo  centro_estudios_E_P\n",
            "86530   2019    7     14  211101                          1   1.0  71.0           NaN              3.0                  NaN\n",
            "86531   2019    7     14  211101                          2   2.0  70.0           NaN              3.0                  NaN\n",
            "86532   2019    7     14  211101                          3   1.0  33.0           NaN             10.0                  NaN\n",
            "86533   2019    7     14  211101                          3   1.0  30.0           NaN             10.0                  NaN\n",
            "86534   2019    7     28  211101                          1   1.0  33.0           NaN              6.0                  NaN\n",
            "...      ...  ...    ...     ...                        ...   ...   ...           ...              ...                  ...\n",
            "110480  2019    8     84  211101                          3   1.0   1.0           NaN              NaN                  NaN\n",
            "110481  2019    8    107  211101                          1   1.0  35.0           NaN              6.0                  NaN\n",
            "110482  2019    8    107  211101                          2   2.0  29.0           NaN              6.0                  NaN\n",
            "110483  2019    8    107  211101                          3   1.0   8.0           NaN              3.0                  1.0\n",
            "110484  2019    8    107  211101                          3   2.0   4.0           NaN              1.0                  1.0\n",
            "\n",
            "[2873 rows x 10 columns]\n"
          ]
        }
      ],
      "source": [
        "#Filtrar kis registros de Puno y Juliaca\n",
        "df_puno_juliaca = df[(df[\"UBIGEO\"]==210101) | (df[\"UBIGEO\"]==211101)]\n",
        "print(df_puno_juliaca)"
      ]
    },
    {
      "cell_type": "code",
      "execution_count": null,
      "metadata": {
        "id": "iPwymI0uCqwa"
      },
      "outputs": [],
      "source": [
        "#Obtenemos la cantidad de hogares que en su ninez aprendieron uno los siguentes idiomas}\n",
        "#columna idioma_ninez\n",
        "# 1 = quechua, 2 = ayamara, 4 = castellano"
      ]
    },
    {
      "cell_type": "code",
      "execution_count": null,
      "metadata": {
        "colab": {
          "base_uri": "https://localhost:8080/"
        },
        "id": "iFCibXvDDIF4",
        "outputId": "b8517bbc-2451-41d3-e3fe-3b9344ea42c8"
      },
      "outputs": [
        {
          "name": "stdout",
          "output_type": "stream",
          "text": [
            "Cantidad de personas que hablan quechua: 308\n",
            "Cantidad de personas que hablan aymara: 270\n",
            "Cantidad de personas que hablan castellano: 989\n",
            "Cantidad de personas que hablan portugues: 4\n",
            "Cantidad de personas que no hablan no esucha: 2\n",
            "Cantidad de personas que hablan señas: 0\n"
          ]
        }
      ],
      "source": [
        "# Obtenemos la cantidad de personas que hablan quechua\n",
        "quechua = df_puno_juliaca[df_puno_juliaca['idioma_ninez'] == 1].shape[0]\n",
        "print(\"Cantidad de personas que hablan quechua:\", quechua)\n",
        "\n",
        "# Obtenemos la cantidad de personas que hablan aymara\n",
        "aymara = df_puno_juliaca[df_puno_juliaca['idioma_ninez'] == 2].shape[0]\n",
        "print(\"Cantidad de personas que hablan aymara:\", aymara)\n",
        "\n",
        "# Obtenemos la cantidad de personas que hablan castellano\n",
        "castellano = df_puno_juliaca[df_puno_juliaca['idioma_ninez'] == 4].shape[0]\n",
        "print(\"Cantidad de personas que hablan castellano:\", castellano)\n",
        "\n",
        "portugues = df_puno_juliaca[df_puno_juliaca['idioma_ninez'] == 5].shape[0]\n",
        "print(\"Cantidad de personas que hablan portugues:\", portugues)\n",
        "\n",
        "ne_nh = df_puno_juliaca[df_puno_juliaca['idioma_ninez'] == 7].shape[0]\n",
        "print(\"Cantidad de personas que no hablan no esucha:\", ne_nh)\n",
        "\n",
        "señas = df_puno_juliaca[df_puno_juliaca['idioma_ninez'] == 8].shape[0]\n",
        "print(\"Cantidad de personas que hablan señas:\", señas)"
      ]
    },
    {
      "cell_type": "code",
      "execution_count": null,
      "metadata": {
        "colab": {
          "base_uri": "https://localhost:8080/",
          "height": 576
        },
        "id": "pv-Af8i5ErSF",
        "outputId": "09be65d1-397b-43aa-9e9f-8704b90f14bb"
      },
      "outputs": [
        {
          "name": "stdout",
          "output_type": "stream",
          "text": [
            "Cantidad de personas que hablan quechua: 308\n",
            "Cantidad de personas que hablan aymara: 270\n",
            "Cantidad de personas que hablan castellano: 989\n",
            "Cantidad de personas que hablan portugues: 4\n",
            "Cantidad de personas que no hablan no esucha: 2\n",
            "Cantidad de personas que hablan señas: 0\n"
          ]
        },
        {
          "data": {
            "image/png": "[encoded data removed]",
            "text/plain": [
              "<Figure size 640x480 with 1 Axes>"
            ]
          },
          "metadata": {},
          "output_type": "display_data"
        }
      ],
      "source": [
        "import matplotlib.pyplot as plt\n",
        "# Obtenemos la cantidad de personas que hablan quechua\n",
        "quechua = df_puno_juliaca[df_puno_juliaca['idioma_ninez'] == 1].shape[0]\n",
        "print(\"Cantidad de personas que hablan quechua:\", quechua)\n",
        "\n",
        "# Obtenemos la cantidad de personas que hablan aymara\n",
        "aymara = df_puno_juliaca[df_puno_juliaca['idioma_ninez'] == 2].shape[0]\n",
        "print(\"Cantidad de personas que hablan aymara:\", aymara)\n",
        "\n",
        "# Obtenemos la cantidad de personas que hablan castellano\n",
        "castellano = df_puno_juliaca[df_puno_juliaca['idioma_ninez'] == 4].shape[0]\n",
        "print(\"Cantidad de personas que hablan castellano:\", castellano)\n",
        "\n",
        "portugues = df_puno_juliaca[df_puno_juliaca['idioma_ninez'] == 5].shape[0]\n",
        "print(\"Cantidad de personas que hablan portugues:\", portugues)\n",
        "\n",
        "ne_nh = df_puno_juliaca[df_puno_juliaca['idioma_ninez'] == 7].shape[0]\n",
        "print(\"Cantidad de personas que no hablan no esucha:\", ne_nh)\n",
        "\n",
        "señas = df_puno_juliaca[df_puno_juliaca['idioma_ninez'] == 8].shape[0]\n",
        "print(\"Cantidad de personas que hablan señas:\", señas)\n",
        "\n",
        "# Cantidades de personas que hablan cada idioma\n",
        "idiomas = ['Quechua', 'Aymara', 'Castellano','Portugues','NE_NH','Señas']\n",
        "cantidades = [quechua, aymara, castellano,portugues,ne_nh,señas]\n",
        "\n",
        "# Creamos gráfico de barras\n",
        "plt.bar(idiomas, cantidades, color=['blue', 'green', 'red', 'yellow', 'black', 'pink'])\n",
        "\n",
        "# Añadimos etiquetas\n",
        "plt.xlabel('Idiomas')\n",
        "plt.ylabel('Cantidad de personas')\n",
        "plt.title('Idiomas hablados en Puno - Juliaca')\n",
        "\n",
        "plt.show()"
      ]
    },
    {
      "cell_type": "code",
      "execution_count": null,
      "metadata": {
        "id": "PqWIZ5mSGIeR"
      },
      "outputs": [],
      "source": [
        "#ahora, obtenemos el numero de damas y varones en Puno y juliaca de acuerdo a la columna sexo\n",
        "#1=varones, 2=damas"
      ]
    },
    {
      "cell_type": "code",
      "execution_count": null,
      "metadata": {
        "colab": {
          "background_save": true
        },
        "id": "Y2G_jgDqHUiJ",
        "outputId": "a496537a-e070-495d-fa69-d5c5598a2148"
      },
      "outputs": [
        {
          "data": {
            "image/png": "[encoded data removed]",
            "text/plain": [
              "<Figure size 640x480 with 1 Axes>"
            ]
          },
          "metadata": {},
          "output_type": "display_data"
        }
      ],
      "source": [
        "import matplotlib.pyplot as plt\n",
        "\n",
        "# Obtener el número de damas y varones en Puno y Juliaca\n",
        "damas = df_puno_juliaca[df_puno_juliaca['sexo'] == 2].shape[0]\n",
        "varones = df_puno_juliaca[df_puno_juliaca['sexo'] == 1].shape[0]\n",
        "\n",
        "# Creamos una lista de los valores para cada categoría\n",
        "categorias = ['Damas', 'Varones']\n",
        "valores = [damas, varones]\n",
        "\n",
        "# Colores para las barras\n",
        "colores = ['#FF9999', '#66B2FF']\n",
        "\n",
        "# Crear un gráfico de barras horizontal\n",
        "plt.barh(categorias, valores, color=colores)\n",
        "\n",
        "# Agregamos etiquetas a las barras\n",
        "for i, valor in enumerate(valores):\n",
        "    plt.text(valor, i, str(valor), ha='left', va='center', fontsize=12, color='black')\n",
        "\n",
        "# Establecemos título y etiquetas de los ejes\n",
        "plt.title('Distribución de Género en Puno - Juliaca')\n",
        "plt.xlabel('Cantidad de Personas')\n",
        "plt.ylabel('Género')\n",
        "\n",
        "plt.show()\n"
      ]
    },
    {
      "cell_type": "code",
      "source": [
        "import matplotlib.pyplot as plt\n",
        "\n",
        "# Obtener el número de damas y varones en Juliaca\n",
        "damas_juliaca = df_juliaca[df_juliaca['sexo'] == 2].shape[0]\n",
        "varones_juliaca = df_juliaca[df_juliaca['sexo'] == 1].shape[0]\n",
        "\n",
        "# Obtener el número de damas y varones en Puno\n",
        "damas_puno = df_puno[df_puno['sexo'] == 2].shape[0]\n",
        "varones_puno = df_puno[df_puno['sexo'] == 1].shape[0]\n",
        "\n",
        "# Crear gráfico para Juliaca\n",
        "plt.subplot(1, 2, 1)\n",
        "plt.title('Distribución de Género en Juliaca')\n",
        "plt.bar(['Damas', 'Varones'], [damas_juliaca, varones_juliaca], color=['#FF9999', '#66B2FF'])\n",
        "\n",
        "# Agregar etiquetas con los conteos\n",
        "plt.text(0, damas_juliaca, str(damas_juliaca), ha='center', va='bottom', fontsize=12, color='black')\n",
        "plt.text(1, varones_juliaca, str(varones_juliaca), ha='center', va='bottom', fontsize=12, color='black')\n",
        "\n",
        "# Crear gráfico para Puno\n",
        "plt.subplot(1, 2, 2)\n",
        "plt.title('Distribución de Género en Puno')\n",
        "plt.bar(['Damas', 'Varones'], [damas_puno, varones_puno], color=['#FF9999', '#66B2FF'])\n",
        "\n",
        "# Agregar etiquetas con los conteos\n",
        "plt.text(0, damas_puno, str(damas_puno), ha='center', va='bottom', fontsize=12, color='black')\n",
        "plt.text(1, varones_puno, str(varones_puno), ha='center', va='bottom', fontsize=12, color='black')\n",
        "\n",
        "# Mostrar los gráficos\n",
        "plt.tight_layout()\n",
        "plt.show()\n"
      ],
      "metadata": {
        "colab": {
          "base_uri": "https://localhost:8080/",
          "height": 487
        },
        "id": "iwTb12NrH_YH",
        "outputId": "d8552f5f-60e1-4a1c-e39b-12f08021f386"
      },
      "execution_count": 68,
      "outputs": [
        {
          "output_type": "display_data",
          "data": {
            "text/plain": [
              "<Figure size 640x480 with 2 Axes>"
            ],
            "image/png": "[encoded data removed]"
          },
          "metadata": {}
        }
      ]
    },
    {
      "cell_type": "code",
      "source": [
        "import matplotlib.pyplot as plt\n",
        "\n",
        "# Obtener el número de damas y varones en Juliaca\n",
        "damas_juliaca = df_juliaca[df_juliaca['sexo'] == 2].shape[0]\n",
        "varones_juliaca = df_juliaca[df_juliaca['sexo'] == 1].shape[0]\n",
        "\n",
        "# Obtener el número de damas y varones en Puno\n",
        "damas_puno = df_puno[df_puno['sexo'] == 2].shape[0]\n",
        "varones_puno = df_puno[df_puno['sexo'] == 1].shape[0]\n",
        "\n",
        "# Encontrar el máximo entre las cantidades de varones y mujeres en Juliaca y Puno\n",
        "max_count = max(damas_juliaca, varones_juliaca, damas_puno, varones_puno)\n",
        "\n",
        "# Crear gráfico para Juliaca\n",
        "plt.subplot(1, 2, 1)\n",
        "plt.title('Distribución de Género en Juliaca')\n",
        "plt.bar(['Damas', 'Varones'], [damas_juliaca, varones_juliaca], color=['#FF9999', '#66B2FF'])\n",
        "plt.ylim(0, max_count)  # Establecer el límite superior del eje y\n",
        "\n",
        "# Agregar etiquetas con los conteos\n",
        "plt.text(0, damas_juliaca, str(damas_juliaca), ha='center', va='bottom', fontsize=12, color='black')\n",
        "plt.text(1, varones_juliaca, str(varones_juliaca), ha='center', va='bottom', fontsize=12, color='black')\n",
        "\n",
        "# Crear gráfico para Puno\n",
        "plt.subplot(1, 2, 2)\n",
        "plt.title('Distribución de Género en Puno')\n",
        "plt.bar(['Damas', 'Varones'], [damas_puno, varones_puno], color=['#FF9999', '#66B2FF'])\n",
        "plt.ylim(0, max_count)  # Establecer el límite superior del eje y\n",
        "\n",
        "# Agregar etiquetas con los conteos\n",
        "plt.text(0, damas_puno, str(damas_puno), ha='center', va='bottom', fontsize=12, color='black')\n",
        "plt.text(1, varones_puno, str(varones_puno), ha='center', va='bottom', fontsize=12, color='black')\n",
        "\n",
        "# Mostrar los gráficos\n",
        "plt.tight_layout()\n",
        "plt.show()\n"
      ],
      "metadata": {
        "colab": {
          "base_uri": "https://localhost:8080/",
          "height": 487
        },
        "id": "XZOOU8q7J6B_",
        "outputId": "78cef607-518d-4eed-ff2d-529868187154"
      },
      "execution_count": 71,
      "outputs": [
        {
          "output_type": "display_data",
          "data": {
            "text/plain": [
              "<Figure size 640x480 with 2 Axes>"
            ],
            "image/png": "[encoded data removed]"
          },
          "metadata": {}
        }
      ]
    }
  ],
  "metadata": {
    "colab": {
      "provenance": [],
      "authorship_tag": "ABX9TyN4/SozqDplKwCgeyYbuV4A",
      "include_colab_link": true
    },
    "kernelspec": {
      "display_name": "Python 3",
      "name": "python3"
    },
    "language_info": {
      "name": "python"
    }
  },
  "nbformat": 4,
  "nbformat_minor": 0
}