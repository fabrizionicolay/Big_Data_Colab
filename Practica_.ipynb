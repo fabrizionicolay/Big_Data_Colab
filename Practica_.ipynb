{
  "nbformat": 4,
  "nbformat_minor": 0,
  "metadata": {
    "colab": {
      "provenance": [],
      "authorship_tag": "ABX9TyMDYxTZGUsnNhRe3DrTwTgw",
      "include_colab_link": true
    },
    "kernelspec": {
      "name": "python3",
      "display_name": "Python 3"
    },
    "language_info": {
      "name": "python"
    }
  },
  "cells": [
    {
      "cell_type": "markdown",
      "metadata": {
        "id": "view-in-github",
        "colab_type": "text"
      },
      "source": [
        "<a href=\"https://colab.research.google.com/github/fabrizionicolay/Big_Data_Colab/blob/main/Practica_.ipynb\" target=\"_parent\"><img src=\"https://colab.research.google.com/assets/colab-badge.svg\" alt=\"Open In Colab\"/></a>"
      ]
    },
    {
      "cell_type": "markdown",
      "source": [
        "#Guía Práctica de NumPy"
      ],
      "metadata": {
        "id": "ZcYlkE5xl5x_"
      }
    },
    {
      "cell_type": "code",
      "execution_count": null,
      "metadata": {
        "id": "j-47vz6tduKH"
      },
      "outputs": [],
      "source": [
        "import numpy as np"
      ]
    },
    {
      "cell_type": "markdown",
      "source": [
        "**Creación de Arrays**"
      ],
      "metadata": {
        "id": "LmcdFZPNmA4n"
      }
    },
    {
      "cell_type": "code",
      "source": [
        "# Creaamos un array unidimensional con 5 elementos enteros de tu elección\n",
        "vector = np.array([4, 8, 10, 9, 15])\n",
        "print(\"Array unidimensional:\\n\",vector)\n"
      ],
      "metadata": {
        "colab": {
          "base_uri": "https://localhost:8080/"
        },
        "id": "cubQB5ZgeBrE",
        "outputId": "89f3e0a8-3545-4bbe-9db2-56fd517b524f"
      },
      "execution_count": null,
      "outputs": [
        {
          "output_type": "stream",
          "name": "stdout",
          "text": [
            "Array unidimensional:\n",
            " [ 4  8 10  9 15]\n"
          ]
        }
      ]
    },
    {
      "cell_type": "code",
      "source": [
        "# Creamos una matriz bidimensional de tamaño 3x3 con valores enteros consecutivos\n",
        "matriz = np.arange(1, 10).reshape(3, 3)\n",
        "print(\"Matriz bidimensional:\\n\",matriz)"
      ],
      "metadata": {
        "colab": {
          "base_uri": "https://localhost:8080/"
        },
        "id": "RzDIa0BzeEyP",
        "outputId": "fefc87bd-07b1-46b0-82b6-15c0b1e69443"
      },
      "execution_count": null,
      "outputs": [
        {
          "output_type": "stream",
          "name": "stdout",
          "text": [
            "Matriz bidimensional:\n",
            " [[1 2 3]\n",
            " [4 5 6]\n",
            " [7 8 9]]\n"
          ]
        }
      ]
    },
    {
      "cell_type": "code",
      "source": [
        "# Creamos una matriz de tamaño 2x4 llena de ceros\n",
        "matriz_zeros = np.zeros((2, 4), int)\n",
        "print(\"Matriz de tamaño 2x4:\\n\",matriz_zeros)"
      ],
      "metadata": {
        "colab": {
          "base_uri": "https://localhost:8080/"
        },
        "id": "j94vqKx5eI1Z",
        "outputId": "febcd7c8-04c2-404e-fb6f-68cb65ba252a"
      },
      "execution_count": null,
      "outputs": [
        {
          "output_type": "stream",
          "name": "stdout",
          "text": [
            "Matriz de tamaño 2x4:\n",
            " [[0 0 0 0]\n",
            " [0 0 0 0]]\n"
          ]
        }
      ]
    },
    {
      "cell_type": "code",
      "source": [
        "# Creamos una matriz de tamaño 3x2 llena de unos\n",
        "matriz_unos = np.ones((3, 2),int)\n",
        "print(\"Matriz de tamaño 3x2:\\n\",matriz_unos)"
      ],
      "metadata": {
        "colab": {
          "base_uri": "https://localhost:8080/"
        },
        "id": "0vijdU8ieLkB",
        "outputId": "8e3e9a98-652f-45ed-9572-914d7fcc5f4c"
      },
      "execution_count": null,
      "outputs": [
        {
          "output_type": "stream",
          "name": "stdout",
          "text": [
            "Matriz de tamaño 3x2:\n",
            " [[1 1]\n",
            " [1 1]\n",
            " [1 1]]\n"
          ]
        }
      ]
    },
    {
      "cell_type": "code",
      "source": [
        "# Creamos una matriz de tamaño 4x4 con números enteros aleatorios entre 0 y 10\n",
        "matriz_random = np.random.randint(0, 11, (4, 4))\n",
        "print(\"Matriz de tamaño 4x4:\\n\",matriz_random)"
      ],
      "metadata": {
        "colab": {
          "base_uri": "https://localhost:8080/"
        },
        "id": "YpEsrx3AeOEn",
        "outputId": "0b1396cb-2bc1-41d1-a87f-763ce7305319"
      },
      "execution_count": null,
      "outputs": [
        {
          "output_type": "stream",
          "name": "stdout",
          "text": [
            "Matriz de tamaño 4x4:\n",
            " [[ 1  8  1  6]\n",
            " [ 0  3  0  1]\n",
            " [ 8  9  0  2]\n",
            " [ 9  6  8 10]]\n"
          ]
        }
      ]
    },
    {
      "cell_type": "markdown",
      "source": [
        "**Acceso a Elementos**"
      ],
      "metadata": {
        "id": "RjTVsbuqmFrW"
      }
    },
    {
      "cell_type": "code",
      "source": [
        "# Accedemos al tercer elemento del vector\n",
        "elemento3_vector = vector[2]\n",
        "print(\"Tercer elemento del vector:\", elemento3_vector)"
      ],
      "metadata": {
        "colab": {
          "base_uri": "https://localhost:8080/"
        },
        "id": "THqfv7PCfMGW",
        "outputId": "c8ee73cc-14a5-4823-da48-f5f04a10ef8e"
      },
      "execution_count": 18,
      "outputs": [
        {
          "output_type": "stream",
          "name": "stdout",
          "text": [
            "Tercer elemento del vector: 10\n"
          ]
        }
      ]
    },
    {
      "cell_type": "code",
      "source": [
        "# Accedemos al elemento en la segunda fila y segunda columna de la matriz\n",
        "elemento_22_matriz = matriz[1, 1]\n",
        "print(\"Elemento fila 2 y columna 2:\", elemento_22_matriz)"
      ],
      "metadata": {
        "colab": {
          "base_uri": "https://localhost:8080/"
        },
        "id": "gLuT_MkDjgv_",
        "outputId": "6142ce85-4465-4b84-9a18-1ad985ac54f0"
      },
      "execution_count": 20,
      "outputs": [
        {
          "output_type": "stream",
          "name": "stdout",
          "text": [
            "Elemento fila 2 y columna 2: 5\n"
          ]
        }
      ]
    },
    {
      "cell_type": "markdown",
      "source": [
        "**Propiedades de los Arrays**"
      ],
      "metadata": {
        "id": "U9kS6cwnmMiO"
      }
    },
    {
      "cell_type": "code",
      "source": [
        "# Verificamos la cantidad de dimensiones de la matriz\n",
        "dimen_matriz = matriz.ndim\n",
        "print(\"Cantidad de dimensiones de la matriz:\",dimen_matriz)"
      ],
      "metadata": {
        "id": "dS06DQsaf2gA",
        "colab": {
          "base_uri": "https://localhost:8080/"
        },
        "outputId": "6b9ec636-5db0-467b-e3c4-d2f569003ea9"
      },
      "execution_count": 21,
      "outputs": [
        {
          "output_type": "stream",
          "name": "stdout",
          "text": [
            "Cantidad de dimensiones de la matriz: 2\n"
          ]
        }
      ]
    },
    {
      "cell_type": "code",
      "source": [
        "# Obtenemos la forma de la matriz\n",
        "forma_matriz = matriz.shape\n",
        "print(\"Forma de matriz:\",forma_matriz)"
      ],
      "metadata": {
        "id": "jfRkA6aOf5JA",
        "colab": {
          "base_uri": "https://localhost:8080/"
        },
        "outputId": "6fbd84ca-beed-4947-95ea-4dbe7c75661f"
      },
      "execution_count": 22,
      "outputs": [
        {
          "output_type": "stream",
          "name": "stdout",
          "text": [
            "Forma de matriz: (3, 3)\n"
          ]
        }
      ]
    },
    {
      "cell_type": "code",
      "source": [
        "# Obtenemos el tamaño total de la matriz\n",
        "tamaño_matriz = matriz.size\n",
        "print(\"Tamaño total de la matriz:\",tamaño_matriz)"
      ],
      "metadata": {
        "id": "6czbo9Ytf8Dt",
        "colab": {
          "base_uri": "https://localhost:8080/"
        },
        "outputId": "d616b45f-4ece-4917-8bb5-a1ac00cbcf55"
      },
      "execution_count": 23,
      "outputs": [
        {
          "output_type": "stream",
          "name": "stdout",
          "text": [
            "Tamaño total de la matriz: 9\n"
          ]
        }
      ]
    },
    {
      "cell_type": "markdown",
      "source": [
        "**Operaciones Básicas**"
      ],
      "metadata": {
        "id": "qIfUn5ZNmQIW"
      }
    },
    {
      "cell_type": "code",
      "source": [
        "# Suma de dos matrices de tamaño 2x2 con valores aleatorios entre 0 y 10\n",
        "matriz_a1 = np.random.randint(0, 11, (2, 2))\n",
        "matriz_a2 = np.random.randint(0, 11, (2, 2))\n",
        "suma_matrices = matriz_a1 + matriz_a2\n",
        "print(\"Primera matriz:\\n\",matriz_a1, \"\\n\")\n",
        "print(\"Segunda matriz:\\n\",matriz_a2,\"\\n\")\n",
        "print(\"Suma de dos matrices 2x2:\\n\",suma_matrices,\"\\n\")"
      ],
      "metadata": {
        "colab": {
          "base_uri": "https://localhost:8080/"
        },
        "id": "-S6PSPTrgEfE",
        "outputId": "0a08e726-0d20-425c-859d-b8e59a4a6cc8"
      },
      "execution_count": 26,
      "outputs": [
        {
          "output_type": "stream",
          "name": "stdout",
          "text": [
            "Primera matriz:\n",
            " [[8 9]\n",
            " [5 6]] \n",
            "\n",
            "Segunda matriz:\n",
            " [[10  9]\n",
            " [ 0  4]] \n",
            "\n",
            "Suma de dos matrices 2x2:\n",
            " [[18 18]\n",
            " [ 5 10]] \n",
            "\n"
          ]
        }
      ]
    },
    {
      "cell_type": "code",
      "source": [
        "# Multiplicar dos matrices de tamaño 3x2 y 2x3 respectivamente\n",
        "matriz_3x2 = np.random.randint(0, 11, (3, 2))\n",
        "matriz_2x3 = np.random.randint(0, 11, (2, 3))\n",
        "multiplicacion_matrices = np.dot(matriz_3x2, matriz_2x3)\n",
        "print(\"Primera matriz 3x2:\\n\",matriz_3x2, \"\\n\")\n",
        "print(\"Segunda matriz 2x3:\\n\",matriz_2x3, \"\\n\")\n",
        "print(\"Multiplicación de dos matrices:\\n\",multiplicacion_matrices,\"\\n\")"
      ],
      "metadata": {
        "id": "3Y7oSB3Kgonv",
        "colab": {
          "base_uri": "https://localhost:8080/"
        },
        "outputId": "106bbc03-07ee-4f70-94d2-58f554b7f5aa"
      },
      "execution_count": 28,
      "outputs": [
        {
          "output_type": "stream",
          "name": "stdout",
          "text": [
            "Primera matriz 3x2:\n",
            " [[4 3]\n",
            " [2 4]\n",
            " [2 4]] \n",
            "\n",
            "Segunda matriz 2x3:\n",
            " [[1 3 8]\n",
            " [3 6 0]] \n",
            "\n",
            "Multiplicación de dos matrices:\n",
            " [[13 30 32]\n",
            " [14 30 16]\n",
            " [14 30 16]] \n",
            "\n"
          ]
        }
      ]
    },
    {
      "cell_type": "code",
      "source": [
        "# Dividir una matriz de tamaño 2x2 por otra matriz de tamaño 2x2\n",
        "matriz_d1 = np.random.randint(1, 11, (2, 2))\n",
        "matriz_d2 = np.random.randint(1, 11, (2, 2))\n",
        "division_elementos = matriz_d1 / matriz_d2\n",
        "division_inversa = np.dot(matriz_d1, np.linalg.inv(matriz_d2))\n",
        "print(\"Primera matriz:\\n\",matriz_d1, \"\\n\")\n",
        "print(\"Segunda matriz:\\n\",matriz_d2, \"\\n\")\n",
        "print(\"Resultado de la división elementos:\\n\",division_elementos,\"\\n\")\n",
        "print(\"Resultado de la división inversa:\\n\",division_inversa)"
      ],
      "metadata": {
        "colab": {
          "base_uri": "https://localhost:8080/"
        },
        "id": "WxzjPVrZkFa2",
        "outputId": "4ae7bd23-969b-423f-cf8c-52ce5517b9fa"
      },
      "execution_count": 30,
      "outputs": [
        {
          "output_type": "stream",
          "name": "stdout",
          "text": [
            "Primera matriz:\n",
            " [[10  9]\n",
            " [ 8  9]] \n",
            "\n",
            "Segunda matriz:\n",
            " [[ 2  2]\n",
            " [10  3]] \n",
            "\n",
            "Resultado de la división elementos:\n",
            " [[5.  4.5]\n",
            " [0.8 3. ]] \n",
            "\n",
            "Resultado de la división inversa:\n",
            " [[ 4.28571429  0.14285714]\n",
            " [ 4.71428571 -0.14285714]]\n"
          ]
        }
      ]
    },
    {
      "cell_type": "markdown",
      "source": [
        "**Manipulación de Arrays**"
      ],
      "metadata": {
        "id": "j6Gaz-X_mUgt"
      }
    },
    {
      "cell_type": "code",
      "source": [
        "# Convertimos el vector en una matriz\n",
        "matriz_conver = matriz.reshape(9, 1)\n",
        "print(\"Matriz:\\n\",matriz_conver,\"\\n\")"
      ],
      "metadata": {
        "id": "dp2RAU0ggrXi",
        "colab": {
          "base_uri": "https://localhost:8080/"
        },
        "outputId": "0b1c6705-6d84-4815-cd4a-84228b58384c"
      },
      "execution_count": 36,
      "outputs": [
        {
          "output_type": "stream",
          "name": "stdout",
          "text": [
            "Matriz:\n",
            " [[1]\n",
            " [2]\n",
            " [3]\n",
            " [4]\n",
            " [5]\n",
            " [6]\n",
            " [7]\n",
            " [8]\n",
            " [9]] \n",
            "\n"
          ]
        }
      ]
    },
    {
      "cell_type": "code",
      "source": [
        "# Convertimos la matriz en un vector unidimensional\n",
        "vector_matriz = matriz.flatten()\n",
        "print(\"Matriz unidimensional:\\n\",vector_matriz)"
      ],
      "metadata": {
        "colab": {
          "base_uri": "https://localhost:8080/"
        },
        "id": "X4HrtFjXkcsO",
        "outputId": "81c887e8-6486-43c7-c6f3-af4a1af566d4"
      },
      "execution_count": 35,
      "outputs": [
        {
          "output_type": "stream",
          "name": "stdout",
          "text": [
            "Matriz unidimensional:\n",
            " [1 2 3 4 5 6 7 8 9]\n"
          ]
        }
      ]
    },
    {
      "cell_type": "markdown",
      "source": [
        "**Operaciones Estadísticas**"
      ],
      "metadata": {
        "id": "T2YC5rDGmX1W"
      }
    },
    {
      "cell_type": "code",
      "source": [
        "# Sumamos todos los elementos de la matriz\n",
        "suma_elementos_matriz = np.sum(matriz)\n",
        "print(\"matriz:\\n\",matriz,\"\\n\")\n",
        "print(\"Suma de elementos de matriz:\\n\",suma_elementos_matriz,\"\\n\")\n"
      ],
      "metadata": {
        "id": "YJkLPZ5LguJs",
        "colab": {
          "base_uri": "https://localhost:8080/"
        },
        "outputId": "a09ec1f7-a355-45d4-ddc0-ca9fe77a5e26"
      },
      "execution_count": 38,
      "outputs": [
        {
          "output_type": "stream",
          "name": "stdout",
          "text": [
            "matriz:\n",
            " [[1 2 3]\n",
            " [4 5 6]\n",
            " [7 8 9]] \n",
            "\n",
            "Suma de elementos de matriz:\n",
            " 45 \n",
            "\n"
          ]
        }
      ]
    },
    {
      "cell_type": "code",
      "source": [
        "# Calculamos la media de cada fila de la matriz\n",
        "media_matriz_fila = np.mean(matriz, axis=1)\n",
        "print(\"matriz:\\n\",matriz,\"\\n\")\n",
        "print(\"Media de cada fila de matriz:\\n\",media_matriz_fila)"
      ],
      "metadata": {
        "colab": {
          "base_uri": "https://localhost:8080/"
        },
        "id": "eWe2wyKhkxDX",
        "outputId": "a0e5a814-4642-403b-e826-bb1a0abd1f08"
      },
      "execution_count": 57,
      "outputs": [
        {
          "output_type": "stream",
          "name": "stdout",
          "text": [
            "matriz:\n",
            " [[1 2 3]\n",
            " [4 5 6]\n",
            " [7 8 9]] \n",
            "\n",
            "Media de cada fila de matriz:\n",
            " [2. 5. 8.]\n"
          ]
        }
      ]
    },
    {
      "cell_type": "markdown",
      "source": [
        "**Indexación y Rebanado:**"
      ],
      "metadata": {
        "id": "L6yqUhEcmdbW"
      }
    },
    {
      "cell_type": "code",
      "source": [
        "# Obtenemos la primera fila de la matriz\n",
        "primera_fila = matriz[0]\n",
        "print(\"matriz:\\n\",matriz,\"\\n\")\n",
        "print(\"Primera fila de la matriz:\\n\",primera_fila,\"\\n\")"
      ],
      "metadata": {
        "id": "uZGDgRTlgxXX",
        "colab": {
          "base_uri": "https://localhost:8080/"
        },
        "outputId": "b694a163-5c94-4866-968d-c4435069b727"
      },
      "execution_count": 40,
      "outputs": [
        {
          "output_type": "stream",
          "name": "stdout",
          "text": [
            "matriz:\n",
            " [[1 2 3]\n",
            " [4 5 6]\n",
            " [7 8 9]] \n",
            "\n",
            "Primera fila de la matriz:\n",
            " [1 2 3] \n",
            "\n"
          ]
        }
      ]
    },
    {
      "cell_type": "code",
      "source": [
        "# Obtenemos las primeras dos columnas de la matriz\n",
        "primeras_dos_columnas = matriz[:, :2]\n",
        "print(\"matriz:\\n\",matriz,\"\\n\")\n",
        "print(\"Primeras columnas de la matriz:\\n\",primeras_dos_columnas,\"\\n\")"
      ],
      "metadata": {
        "colab": {
          "base_uri": "https://localhost:8080/"
        },
        "id": "5ljDjiHQk3sn",
        "outputId": "9223e664-e44a-47e7-a86c-9d22cf7f32d9"
      },
      "execution_count": 42,
      "outputs": [
        {
          "output_type": "stream",
          "name": "stdout",
          "text": [
            "matriz:\n",
            " [[1 2 3]\n",
            " [4 5 6]\n",
            " [7 8 9]] \n",
            "\n",
            "Primeras columnas de la matriz:\n",
            " [[1 2]\n",
            " [4 5]\n",
            " [7 8]] \n",
            "\n"
          ]
        }
      ]
    },
    {
      "cell_type": "markdown",
      "source": [
        "**Ejercicio Adicional**"
      ],
      "metadata": {
        "id": "PX1X4cgumiO2"
      }
    },
    {
      "cell_type": "code",
      "source": [
        "# Creamos una matriz de tamaño 4x4 con valores aleatorios\n",
        "matriz_4x4 = np.random.randint(0, 80, (4, 4))\n",
        "print(\"Matriz 4x4:\\n\",matriz_4x4,\"\\n\")\n"
      ],
      "metadata": {
        "id": "Yh7y9tl9g2uI",
        "colab": {
          "base_uri": "https://localhost:8080/"
        },
        "outputId": "c6f1fd0a-9ee3-47f3-d1d6-50460c44a4fa"
      },
      "execution_count": 52,
      "outputs": [
        {
          "output_type": "stream",
          "name": "stdout",
          "text": [
            "Matriz 4x4:\n",
            " [[25 43 41 62]\n",
            " [43 42 66 53]\n",
            " [39 30 78 21]\n",
            " [31  4 73 35]] \n",
            "\n"
          ]
        }
      ]
    },
    {
      "cell_type": "code",
      "source": [
        "# Obtenemos el valor máximo y mínimo de la matriz, así como su posición\n",
        "maximo_valor = np.max(matriz_4x4)\n",
        "minimo_valor = np.min(matriz_4x4)\n",
        "posicion_maximo_valor = np.unravel_index(np.argmax(matriz_4x4), matriz_4x4.shape)\n",
        "posicion_minimo_valor = np.unravel_index(np.argmin(matriz_4x4), matriz_4x4.shape)\n",
        "print(\"Valor maximo:\",maximo_valor,\"\\n\",\"Posicion del valor maximo:\",posicion_maximo_valor,\"\\n\")\n",
        "print(\"Valor minimo:\",minimo_valor,\"\\n\",\"Posicion del valor minimo:\",posicion_minimo_valor)"
      ],
      "metadata": {
        "colab": {
          "base_uri": "https://localhost:8080/"
        },
        "id": "g0sOVQVsljb_",
        "outputId": "3f49c468-b392-4009-bc9f-1007ff75923f"
      },
      "execution_count": 53,
      "outputs": [
        {
          "output_type": "stream",
          "name": "stdout",
          "text": [
            "Valor maximo: 78 \n",
            " Posicion del valor maximo: (2, 2) \n",
            "\n",
            "Valor minimo: 4 \n",
            " Posicion del valor minimo: (3, 1)\n"
          ]
        }
      ]
    }
  ]
}